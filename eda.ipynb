{
 "cells": [
  {
   "cell_type": "code",
   "execution_count": 3,
   "id": "b3957e8d",
   "metadata": {},
   "outputs": [
    {
     "name": "stdout",
     "output_type": "stream",
     "text": [
      "   YEAR  SERIAL  STRATA  PSU         NHISHID  PERNUM           NHISPID  \\\n",
      "0  2019       1     151   12  0002019H000003       1  0002019H00000310   \n",
      "1  2019       2     102    1  0002019H000005       1  0002019H00000510   \n",
      "2  2019       3     129   45  0002019H000006       1  0002019H00000610   \n",
      "3  2019       4     107   77  0002019H000008       1  0002019H00000810   \n",
      "4  2019       4     107   77  0002019H000008       2  0002019H00000820   \n",
      "\n",
      "       HHX  SAMPWEIGHT  ASTATFLG  CSTATFLG  PAINBACK3M  PAINARMS3M  PAINLEGS3M  \n",
      "0  H000003   12052.500         1         0           3           2           2  \n",
      "1  H000005    5964.669         1         0           2           2           4  \n",
      "2  H000006    5521.791         1         0           1           1           1  \n",
      "3  H000008    8762.543         1         0           2           1           1  \n",
      "4  H000008   10715.940         0         1           0           0           0  \n"
     ]
    },
    {
     "data": {
      "text/plain": [
       "(41190, 14)"
      ]
     },
     "execution_count": 3,
     "metadata": {},
     "output_type": "execute_result"
    }
   ],
   "source": [
    "import pandas as pd\n",
    "import numpy as np\n",
    "\n",
    "data = pd.read_csv(r'.\\data\\nhis_00002.csv')\n",
    "\n",
    "print(data.head())\n",
    "data.shape"
   ]
  },
  {
   "cell_type": "code",
   "execution_count": null,
   "id": "226d8b5a",
   "metadata": {},
   "outputs": [],
   "source": []
  }
 ],
 "metadata": {
  "kernelspec": {
   "display_name": "venv",
   "language": "python",
   "name": "python3"
  },
  "language_info": {
   "codemirror_mode": {
    "name": "ipython",
    "version": 3
   },
   "file_extension": ".py",
   "mimetype": "text/x-python",
   "name": "python",
   "nbconvert_exporter": "python",
   "pygments_lexer": "ipython3",
   "version": "3.10.6"
  }
 },
 "nbformat": 4,
 "nbformat_minor": 5
}
